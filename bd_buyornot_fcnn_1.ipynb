{
 "cells": [
  {
   "cell_type": "code",
   "execution_count": 1,
   "metadata": {
    "uuid": "ecd11e4b-b2d9-47ef-a6bc-437a592b1d47"
   },
   "outputs": [],
   "source": [
    "import pandas as pd\n",
    "import numpy as np\n",
    "from sklearn.model_selection import train_test_split\n",
    "import torch\n",
    "import torch.nn as nn\n",
    "import torch.nn.functional as F\n",
    "import torch.optim as optim\n",
    "from torch.autograd import Variable\n",
    "import torch.utils.data as data\n",
    "from torch.utils.data import DataLoader as DataLoader\n",
    "from imblearn.over_sampling import SMOTE\n",
    "from imblearn.over_sampling import BorderlineSMOTE\n",
    "from imblearn.over_sampling import ADASYN"
   ]
  },
  {
   "cell_type": "code",
   "execution_count": 2,
   "metadata": {
    "uuid": "691f7e39-a07f-4c38-b799-c1199a62d0cb"
   },
   "outputs": [],
   "source": [
    "torch.set_default_tensor_type(torch.FloatTensor)"
   ]
  },
  {
   "cell_type": "code",
   "execution_count": 3,
   "metadata": {
    "uuid": "f377a31e-bb00-4276-9831-81abd9df0c85"
   },
   "outputs": [],
   "source": [
    "test_data = pd.read_csv('data/bd/test_data_eda_1.csv')\n",
    "del test_data['Unnamed: 0']\n",
    "del test_data['customer_id']\n",
    "test_x = test_data.values"
   ]
  },
  {
   "cell_type": "code",
   "execution_count": 4,
   "metadata": {
    "uuid": "c703b239-21d6-4529-b704-2344549e7dc6"
   },
   "outputs": [],
   "source": [
    "train_x = pd.read_csv('data/bd/x_new.csv')\n",
    "#保存文件时忘记了index = False\n",
    "del train_x['Unnamed: 0']\n",
    "train_y = pd.read_csv('data/bd/y_new.csv')\n",
    "del train_y['0']\n"
   ]
  },
  {
   "cell_type": "code",
   "execution_count": 5,
   "metadata": {
    "uuid": "c59977bf-58b3-4c94-a636-14893f9172e6"
   },
   "outputs": [],
   "source": [
    "X_new = train_x.values\n",
    "Y_new = train_y.values"
   ]
  },
  {
   "cell_type": "code",
   "execution_count": 6,
   "metadata": {
    "uuid": "327f165d-f7b6-4304-9afe-821365f4dcb6"
   },
   "outputs": [
    {
     "name": "stdout",
     "output_type": "stream",
     "text": [
      "now dealing count : 0\n",
      "now dealing count : 100000\n",
      "now dealing count : 200000\n",
      "now dealing count : 300000\n",
      "now dealing count : 400000\n",
      "now dealing count : 500000\n"
     ]
    }
   ],
   "source": [
    "train_index = []\n",
    "p = 0\n",
    "total_zero_count = 0\n",
    "total_one_count = 0\n",
    "target_zero_count = len(Y_new)/5*2\n",
    "target_one_count = len(Y_new)/5*2\n",
    "while True:\n",
    "    if p %100000 == 0:\n",
    "        print(\"now dealing count :\",p)\n",
    "    if total_zero_count >= target_zero_count and total_one_count >= target_one_count:\n",
    "        break\n",
    "    if Y_new[p] == 0:\n",
    "        if total_zero_count < target_zero_count:\n",
    "            train_index.append(p)\n",
    "            total_zero_count += 1\n",
    "            p += 1\n",
    "            continue\n",
    "        else:\n",
    "            p += 1\n",
    "            continue\n",
    "    else:\n",
    "        if total_one_count < target_one_count:\n",
    "            train_index.append(p)\n",
    "            total_one_count += 1\n",
    "            p += 1\n",
    "            continue\n",
    "        else:\n",
    "            p += 1\n",
    "            continue\n",
    "    "
   ]
  },
  {
   "cell_type": "code",
   "execution_count": 7,
   "metadata": {
    "uuid": "0158301d-d754-4a39-a595-a4685aacefa7"
   },
   "outputs": [],
   "source": [
    "total_index = [x for x in range(len(Y_new))]\n",
    "for i in train_index:\n",
    "    total_index.remove(i)"
   ]
  },
  {
   "cell_type": "code",
   "execution_count": 8,
   "metadata": {
    "uuid": "7722b0ea-d3ff-47c6-b9f4-900d438fe603"
   },
   "outputs": [],
   "source": [
    "valid_index = total_index"
   ]
  },
  {
   "cell_type": "code",
   "execution_count": 9,
   "metadata": {
    "uuid": "3403201c-e98b-4241-8c5d-1e79684f8a89"
   },
   "outputs": [],
   "source": [
    "train_x =  X_new[train_index]\n",
    "train_y =  Y_new[train_index]\n",
    "valid_x =  X_new[valid_index]\n",
    "valid_y =  Y_new[valid_index]"
   ]
  },
  {
   "cell_type": "code",
   "execution_count": 10,
   "metadata": {
    "uuid": "c0647b87-4402-4732-9ba5-802401590743"
   },
   "outputs": [],
   "source": [
    "class bd_dataset(data.Dataset):     \n",
    "    def __init__(self, mode,data_x,data_y = None):          \n",
    "        self.mode = mode\n",
    "        self.data_x = data_x\n",
    "        self.data_y = data_y\n",
    "        self.data_size =len(data_y)                 \n",
    "\n",
    "    def __getitem__(self, item):            \n",
    "        if self.mode == 'train' or self.mode == 'valid':                                        \n",
    "            item_x = self.data_x[item]  \n",
    "            item_y = self.data_y[item]                             \n",
    "            return Variable(torch.tensor(item_x,dtype = torch.float32)), torch.tensor(item_y,dtype = torch.float32)    \n",
    "        elif self.mode == 'test':                                      \n",
    "            item_x = self.data_x[item]\n",
    "            return Variable(torch.tensor(item_x,dtype = torch.float32))                                      \n",
    "        else:\n",
    "            print('Mode Worry')\n",
    "\n",
    "    def __len__(self):\n",
    "        return self.data_size               # 返回数据集大小\n"
   ]
  },
  {
   "cell_type": "code",
   "execution_count": 11,
   "metadata": {
    "uuid": "b08bea60-7586-4827-ac1e-61b445039bb6"
   },
   "outputs": [],
   "source": [
    "class fcnn(nn.Module):\n",
    "    def __init__(self):\n",
    "        super(fcnn,self).__init__()\n",
    "        self.bn = nn.BatchNorm1d(1, affine=False)\n",
    "        self.fc1 = nn.Linear(65,128)\n",
    "        self.fc2 = nn.Linear(128,60)\n",
    "        self.fc3 = nn.Linear(60,20)\n",
    "        self.fc4 = nn.Linear(20,1)\n",
    "    def forward(self,x):\n",
    "        x = F.relu(self.fc1(x))\n",
    "        x = F.relu(self.fc2(x))\n",
    "        x = F.relu(self.fc3(x))\n",
    "        x = F.sigmoid(self.fc4(x))\n",
    "        return x\n"
   ]
  },
  {
   "cell_type": "code",
   "execution_count": 12,
   "metadata": {
    "uuid": "4b443d72-d39a-42c7-9e09-9fc5202c7f38"
   },
   "outputs": [],
   "source": [
    "#上采样之后，类别不平衡消失，使用ACC作为指标\n",
    "def test(model,batch_size,criterion):\n",
    "    datafile = bd_dataset('valid', valid_x, valid_y)                                                      \n",
    "    dataloader = DataLoader(datafile, batch_size=32, shuffle=True) \n",
    "    all_loss = []\n",
    "    for i, j in dataloader:\n",
    "        train_x_temp = i.to(device)\n",
    "        labels = j.to(device)\n",
    "        outputs = model(train_x_temp)\n",
    "        loss = criterion(outputs, labels)\n",
    "        loss_cpu = np.mean(loss.to('cpu').detach().numpy())\n",
    "        all_loss.append(loss_cpu)\n",
    "    return np.mean(all_loss)"
   ]
  },
  {
   "cell_type": "raw",
   "metadata": {
    "cellType": "raw",
    "uuid": "dcb93fc9-5c51-4f65-915d-054f90ee5713"
   },
   "source": [
    "fc_net = fcnn().cuda()"
   ]
  },
  {
   "cell_type": "markdown",
   "metadata": {
    "cellType": "markdown",
    "uuid": "7860c80f-8b84-464d-bdc5-f581cf455ee8"
   },
   "source": [
    "torch.save(fc_net,'data/bd/model_epoch_0.pth')"
   ]
  },
  {
   "cell_type": "code",
   "execution_count": 31,
   "metadata": {
    "uuid": "8758beb6-6df1-45e0-9eb3-803eedc0325e"
   },
   "outputs": [],
   "source": [
    "fc_net = torch.load('data/bd/model_epoch_0.pth')"
   ]
  },
  {
   "cell_type": "code",
   "execution_count": null,
   "metadata": {
    "uuid": "97dcbbc6-0b72-46fe-a5b3-496d6685e287"
   },
   "outputs": [],
   "source": []
  },
  {
   "cell_type": "code",
   "execution_count": 33,
   "metadata": {
    "uuid": "a982fd59-1c4d-45d6-ab6a-5e5c87b86278"
   },
   "outputs": [],
   "source": [
    "#criterion = nn.CrossEntropyLoss()\n",
    "\n",
    "#criterion = nn.CrossEntropyLoss(weight=torch.tensor([1,1],dtype = torch.float32).cuda())\n",
    "criterion = nn.MSELoss(reduce=False, size_average=False)\n",
    "optimizer = optim.Adam(fc_net.parameters(), lr=0.001, betas=(0.9, 0.999), eps=1e-08, weight_decay=0)\n",
    "#optimizer = torch.optim.SGD(fc_net.parameters(),lr=0.02)\n",
    "\n",
    "device = torch.device(\"cuda:0\" if torch.cuda.is_available() else \"cpu\")"
   ]
  },
  {
   "cell_type": "code",
   "execution_count": 34,
   "metadata": {
    "uuid": "3b0867f0-f80f-4e81-9e1f-68aa9ccddee6"
   },
   "outputs": [],
   "source": [
    "def train(train_data, train_data_y, model, criterion, optimizer,epochs, batch_size):\n",
    "    valid_loss = []\n",
    "    datafile = bd_dataset('train', train_x, train_y)                                                      \n",
    "    dataloader = DataLoader(datafile, batch_size=32, shuffle=True) \n",
    "    all_epoch_loss = []\n",
    "    \n",
    "    for epoch in range(epochs): \n",
    "        epoch_valid_loss = test(fc_net,32,criterion)\n",
    "        valid_loss.append(epoch_valid_loss)\n",
    "        temp_epoch_loss = 0\n",
    "        print('-------------------------------------------------')\n",
    "        print('epoch: ',epoch)\n",
    "        iter_count = 0\n",
    "        for i, j in dataloader:\n",
    "            iter_count += 1\n",
    "            \n",
    "            \n",
    "            train_x_temp = i.to(device)\n",
    "            labels = j.to(device)\n",
    "            outputs = model(train_x_temp)\n",
    "            \n",
    "            optimizer.zero_grad()        \n",
    "            loss = criterion(outputs, labels)\n",
    "            loss.backward(loss.clone().detach())\n",
    "            loss_cpu = loss.to('cpu').detach().numpy()\n",
    "            temp_epoch_loss += np.sum(loss_cpu)\n",
    "            optimizer.step()\n",
    "            \n",
    "        print('loss: ',temp_epoch_loss/len(train_data))   \n",
    "        \n",
    "        all_epoch_loss.append(temp_epoch_loss)\n",
    "        \n",
    "    return valid_loss\n",
    "        \n",
    "        "
   ]
  },
  {
   "cell_type": "code",
   "execution_count": 35,
   "metadata": {
    "uuid": "ea868327-bfee-45ea-a10c-cc686a099329"
   },
   "outputs": [
    {
     "name": "stdout",
     "output_type": "stream",
     "text": [
      "-------------------------------------------------\n",
      "epoch:  0\n",
      "loss:  0.18161994692502767\n",
      "-------------------------------------------------\n",
      "epoch:  1\n",
      "loss:  0.18116499387238\n",
      "-------------------------------------------------\n",
      "epoch:  2\n",
      "loss:  0.18108667697921796\n",
      "-------------------------------------------------\n",
      "epoch:  3\n",
      "loss:  0.18093498729537053\n",
      "-------------------------------------------------\n",
      "epoch:  4\n",
      "loss:  0.18086679071696685\n"
     ]
    }
   ],
   "source": [
    "a = train(X_new, Y_new, fc_net, criterion, optimizer,5, 32)"
   ]
  },
  {
   "cell_type": "code",
   "execution_count": 39,
   "metadata": {
    "uuid": "c2055f9f-7ae3-434f-b80c-aee4c569b200"
   },
   "outputs": [
    {
     "name": "stderr",
     "output_type": "stream",
     "text": [
      "/opt/conda/lib/python3.6/site-packages/ipykernel_launcher.py:1: UserWarning: To copy construct from a tensor, it is recommended to use sourceTensor.clone().detach() or sourceTensor.clone().detach().requires_grad_(True), rather than torch.tensor(sourceTensor).\n",
      "  \"\"\"Entry point for launching an IPython kernel.\n"
     ]
    }
   ],
   "source": [
    "test_x = Variable(torch.tensor(test_x,dtype = torch.float32)).cuda()"
   ]
  },
  {
   "cell_type": "code",
   "execution_count": 40,
   "metadata": {
    "uuid": "f3b574bf-edbd-49b4-87de-90603313f51e"
   },
   "outputs": [],
   "source": [
    "result = fc_net(test_x)"
   ]
  },
  {
   "cell_type": "code",
   "execution_count": 41,
   "metadata": {
    "uuid": "cf5ff650-eafa-4258-b04c-281c54674544"
   },
   "outputs": [],
   "source": [
    "result = result.to('cpu').detach().numpy()"
   ]
  },
  {
   "cell_type": "code",
   "execution_count": 45,
   "metadata": {
    "uuid": "0faa647b-f22c-41f9-bf98-52710216cc36"
   },
   "outputs": [],
   "source": [
    "def turn_to_result(result):\n",
    "    for i in range(len(result)):\n",
    "        if result[i] > 0.5:\n",
    "            result[i] = 1\n",
    "        else:\n",
    "            result[i] = 0"
   ]
  },
  {
   "cell_type": "code",
   "execution_count": 46,
   "metadata": {
    "uuid": "c9ab9b6e-c83d-436c-aac1-0273c2f6798a"
   },
   "outputs": [],
   "source": [
    "turn_to_result(result)"
   ]
  },
  {
   "cell_type": "code",
   "execution_count": 48,
   "metadata": {
    "uuid": "190258d2-2c2b-4907-a656-64bdd48b9580"
   },
   "outputs": [],
   "source": [
    "#最终结果：result"
   ]
  },
  {
   "cell_type": "code",
   "execution_count": 47,
   "metadata": {
    "uuid": "67d78b33-a8c4-4ddf-8c50-27e53c6559fa"
   },
   "outputs": [
    {
     "data": {
      "text/plain": [
       "array([[0.],\n",
       "       [1.],\n",
       "       [0.],\n",
       "       ...,\n",
       "       [1.],\n",
       "       [1.],\n",
       "       [0.]], dtype=float32)"
      ]
     },
     "execution_count": 47,
     "metadata": {},
     "output_type": "execute_result"
    }
   ],
   "source": [
    "result"
   ]
  },
  {
   "cell_type": "code",
   "execution_count": null,
   "metadata": {
    "uuid": "99093d32-fcca-48e8-8496-a5b2682fffda"
   },
   "outputs": [],
   "source": [
    "#下面是训练时的代码\n",
    "#当epoch = 5时，验证集loss最小"
   ]
  },
  {
   "cell_type": "code",
   "execution_count": null,
   "metadata": {
    "uuid": "6d28a79d-a3b4-4a7a-8123-b46ddaed6252"
   },
   "outputs": [],
   "source": [
    "a = train(train_x, train_y, fc_net, criterion, optimizer,10, 32)"
   ]
  },
  {
   "cell_type": "code",
   "execution_count": null,
   "metadata": {
    "uuid": "800ef95a-86e7-452c-86d8-7461c0953fb0"
   },
   "outputs": [],
   "source": []
  }
 ],
 "metadata": {
  "kernelspec": {
   "display_name": "Python 3",
   "language": "python",
   "name": "python3"
  },
  "language_info": {
   "codemirror_mode": {
    "name": "ipython",
    "version": 3
   },
   "file_extension": ".py",
   "mimetype": "text/x-python",
   "name": "python",
   "nbconvert_exporter": "python",
   "pygments_lexer": "ipython3",
   "version": "3.6.4"
  }
 },
 "nbformat": 4,
 "nbformat_minor": 4
}
