{
 "cells": [
  {
   "cell_type": "code",
   "execution_count": 1,
   "metadata": {},
   "outputs": [],
   "source": [
    "import numpy as np\n",
    "import pandas as pd\n",
    "import matplotlib.pyplot as plt\n",
    "%matplotlib inline\n",
    "import warnings\n",
    "warnings.filterwarnings('ignore')\n",
    "import numpy as np  \n",
    "import pandas as pd  \n",
    "from tqdm import tqdm\n",
    "from datetime import datetime, date, timedelta\n",
    "from scipy.stats import skew  # for some statistics\n",
    "from scipy.special import boxcox1p\n",
    "from scipy.stats import boxcox_normmax\n",
    "import os\n",
    "import re\n",
    "import seaborn as sns\n",
    "import matplotlib.pyplot as plt\n",
    "import time\n",
    "from itertools import product\n",
    "import datetime as dt\n",
    "import calendar\n",
    "import gc\n",
    "from datetime import date, timedelta\n",
    "\n",
    "import random"
   ]
  },
  {
   "cell_type": "code",
   "execution_count": 2,
   "metadata": {},
   "outputs": [],
   "source": [
    "#减少pandas占用的内存\n",
    "# @from: https://www.kaggle.com/arjanso/reducing-dataframe-memory-size-by-65/code\n",
    "# @liscense: Apache 2.0\n",
    "# @author: weijian\n",
    "'''函数说明\n",
    "仅支持object格式和整形，浮点数\n",
    "入参：\n",
    "\tprops:DataFrame\n",
    "\tfloattype:浮点数转换类型（所有的浮点数都会被转换到该类型），默认np.float16\n",
    "\tfloattoint:是否强制将float转换成int，默认为False\n",
    "\tfloatthreshold:float转换成int阈值，大于等于这个阈值则不会转换，默认为0.01\n",
    "\tfillnavalue:缺失值填充值，默认-999\n",
    "'''\n",
    "def reduce_mem_usage(props,floattype = np.float16, floattoint = False, floatthreshold = 0.01,fillnavalue = -999):\n",
    "    # 计算当前内存\n",
    "    start_mem_usg = props.memory_usage().sum() / 1024 ** 2\n",
    "    print(\"Memory usage of the dataframe is :\", start_mem_usg, \"MB\")\n",
    "    \n",
    "    # 哪些列包含空值，空值用-999填充。why：因为np.nan当做float处理\n",
    "    #NAlist = []\n",
    "    for col in props.columns:\n",
    "        # 这里只过滤了objectd格式，如果你的代码中还包含其他类型，请一并过滤\n",
    "        if (props[col].dtypes != object):\n",
    "            # 判断是否是int类型\n",
    "            isInt = False\n",
    "            mmax = props[col].max()\n",
    "            mmin = props[col].min()\n",
    "            \n",
    "            # Integer does not support NA, therefore Na needs to be filled\n",
    "            if not np.isfinite(props[col]).all():\n",
    "                #NAlist.append(col)\n",
    "                props[col].fillna(fillnavalue, inplace=True) # 用-999填充\n",
    "                \n",
    "            # test if column can be converted to an integer\n",
    "            asint = props[col].fillna(0).astype(np.int64)\n",
    "            result = np.fabs(props[col] - asint)\n",
    "            result = result.sum()\n",
    "            if result < floatthreshold: # 绝对误差和小于floatthreshold认为可以转换的，要根据task修改\n",
    "                if result == 0:\n",
    "                    isInt = True\n",
    "                else:\n",
    "                    isInt = floattoint\n",
    "            \n",
    "            # make interger / unsigned Integer datatypes\n",
    "            if isInt:\n",
    "                if mmin >= 0: # 最小值大于0，转换成无符号整型\n",
    "                    if mmax <= 255:\n",
    "                        props[col] = props[col].astype(np.uint8)\n",
    "                    elif mmax <= 65535:\n",
    "                        props[col] = props[col].astype(np.uint16)\n",
    "                    elif mmax <= 4294967295:\n",
    "                        props[col] = props[col].astype(np.uint32)\n",
    "                    else:\n",
    "                        props[col] = props[col].astype(np.uint64)\n",
    "                else: # 转换成有符号整型\n",
    "                    if mmin > np.iinfo(np.int8).min and mmax < np.iinfo(np.int8).max:\n",
    "                        props[col] = props[col].astype(np.int8)\n",
    "                    elif mmin > np.iinfo(np.int16).min and mmax < np.iinfo(np.int16).max:\n",
    "                        props[col] = props[col].astype(np.int16)\n",
    "                    elif mmin > np.iinfo(np.int32).min and mmax < np.iinfo(np.int32).max:\n",
    "                        props[col] = props[col].astype(np.int32)\n",
    "                    elif mmin > np.iinfo(np.int64).min and mmax < np.iinfo(np.int64).max:\n",
    "                        props[col] = props[col].astype(np.int64)  \n",
    "            else: # 注意：这里对于float都转换成floattype，需要根据你的情况自己更改\n",
    "                props[col] = props[col].astype(floattype)\n",
    "            \n",
    "            # print(\"dtype after\", props[col].dtype)\n",
    "            # print(\"********************************\")\n",
    "    print(\"___MEMORY USAGE AFTER COMPLETION:___\")\n",
    "    mem_usg = props.memory_usage().sum() / 1024**2 \n",
    "    print(\"Memory usage is: \",mem_usg,\" MB\")\n",
    "    print(\"This is \",100*mem_usg/start_mem_usg,\"% of the initial size\")\n",
    "    return props"
   ]
  },
  {
   "cell_type": "code",
   "execution_count": 3,
   "metadata": {},
   "outputs": [],
   "source": [
    "train_data = pd.read_csv('C:/ml_data/bd_buyornot/train.csv')\n",
    "test_data = pd.read_csv('C:/ml_data/bd_buyornot/submission.csv').set_index('customer_id')"
   ]
  },
  {
   "cell_type": "raw",
   "metadata": {},
   "source": [
    "for i in train_data:\n",
    "    print(i)\n",
    "    try:\n",
    "        print(np.min(all_data[i]))\n",
    "        print(np.max(all_data[i]))\n",
    "    except:\n",
    "        pass"
   ]
  },
  {
   "cell_type": "raw",
   "metadata": {},
   "source": [
    "数据检测结果：\n",
    "    1.goods_price， order_detail_discount存在负值，都是异常值。\n",
    "    2.member_status， is_member_actived只有一个数值，特征无用\n",
    "    3.order_detail_status，order_status存在非官方异常值\n",
    "    4.order_detail_amount就没有正确的数据，应该删除"
   ]
  },
  {
   "cell_type": "code",
   "execution_count": 4,
   "metadata": {},
   "outputs": [
    {
     "name": "stdout",
     "output_type": "stream",
     "text": [
      "训练集使用内容 349.8006525039673 MB\n",
      "测试集使用内存 24.200225830078125 MB\n"
     ]
    }
   ],
   "source": [
    "train = train_data\n",
    "test = test_data\n",
    "train['order_detail_id'] = train['order_detail_id'].astype(np.uint32)\n",
    "train['order_id'] = train['order_id'].astype(np.uint32)\n",
    "train['customer_id'] = train['customer_id'].astype(np.uint32)\n",
    "train['goods_id'] = train['goods_id'].astype(np.uint32)\n",
    "train['goods_class_id'] = train['goods_class_id'].astype(np.uint32)\n",
    "train['member_id'] = train['member_id'].astype(np.uint32)\n",
    "# 处理状态字段，这里同时处理空值，将空值置为0\n",
    "train['order_status'] = train['order_status'].astype(np.uint8)\n",
    "train['goods_has_discount'] = train['goods_has_discount'].astype(np.uint8)\n",
    "train[\"is_member_actived\"].fillna(0, inplace=True)\n",
    "train[\"is_member_actived\"]=train[\"is_member_actived\"].astype(np.int8)\n",
    "train[\"member_status\"].fillna(0, inplace=True)\n",
    "train[\"member_status\"]=train[\"member_status\"].astype(np.int8)\n",
    "train[\"customer_gender\"].fillna(0, inplace=True)\n",
    "train[\"customer_gender\"]=train[\"customer_gender\"].astype(np.int8)\n",
    "train['is_customer_rate'] = train['is_customer_rate'].astype(np.uint8)\n",
    "train['order_detail_status'] = train['order_detail_status'].astype(np.uint8)\n",
    "# 处理日期\n",
    "train['goods_list_time']=pd.to_datetime(train['goods_list_time'],format=\"%Y-%m-%d\")\n",
    "train['order_pay_time']=pd.to_datetime(train['order_pay_time'],format=\"%Y-%m-%d\")\n",
    "train['goods_delist_time']=pd.to_datetime(train['goods_delist_time'],format=\"%Y-%m-%d\")\n",
    "# 检查内存使用\n",
    "mem_train = train.memory_usage(index=True).sum()\n",
    "mem_test=test.memory_usage(index=True).sum()\n",
    "print(u\"训练集使用内容 \"+ str(mem_train/ 1024**2)+\" MB\")\n",
    "print(u\"测试集使用内存 \"+ str(mem_test/ 1024**2)+\" MB\")"
   ]
  },
  {
   "cell_type": "code",
   "execution_count": 5,
   "metadata": {},
   "outputs": [],
   "source": [
    "#数值相同的特征直接删除\n",
    "del train_data['member_status']\n",
    "del train_data['is_member_actived']"
   ]
  },
  {
   "cell_type": "code",
   "execution_count": 6,
   "metadata": {},
   "outputs": [
    {
     "name": "stderr",
     "output_type": "stream",
     "text": [
      "100%|█████████████████████████████████████████████████████████████████████| 2306871/2306871 [02:22<00:00, 16238.97it/s]\n"
     ]
    }
   ],
   "source": [
    "#存在负值的特征order_detail_discount不处理，后续会删除该特征\n",
    "#goods_price会使用同商品的价格均值填充\n",
    "temp = train_data.groupby('goods_id')\n",
    "goods_price_by_id = {}\n",
    "for i,j in temp:\n",
    "    temp_prices = j['goods_price'][j['goods_price'] > 0]\n",
    "    goods_price_by_id[i] = np.mean(temp_prices)\n",
    "for  i in tqdm(range(len(train_data))):\n",
    "    if train_data['goods_price'][i] < 0:\n",
    "        train_data['goods_price'][i] = goods_price_by_id[train_data['goods_id'][i]]"
   ]
  },
  {
   "cell_type": "code",
   "execution_count": 7,
   "metadata": {},
   "outputs": [],
   "source": [
    "#order_detail_status不处理，后续会删除该特征\n",
    "#order_status会将异常值101,0替换成6\n",
    "#order_status==1为未付款订单，并不视为正常订单。\n",
    "train_data['order_status'].replace(101,6,inplace = True)\n",
    "train_data['order_status'].replace(0,6,inplace = True)\n",
    "train_data['order_status'].replace(1,0,inplace = True)\n",
    "train_data['order_status'].replace(6,1,inplace = True)\n",
    "train_data['order_status'].replace(3,1,inplace = True)\n",
    "train_data['order_status'].replace(4,1,inplace = True)"
   ]
  },
  {
   "cell_type": "code",
   "execution_count": 8,
   "metadata": {},
   "outputs": [],
   "source": [
    "#order_detail_amount后续会删除"
   ]
  },
  {
   "cell_type": "markdown",
   "metadata": {},
   "source": [
    "# 仅保留有用特征"
   ]
  },
  {
   "cell_type": "code",
   "execution_count": 9,
   "metadata": {},
   "outputs": [],
   "source": [
    "train_data = train_data[['customer_id','customer_gender','order_detail_payment','order_detail_goods_num','is_customer_rate','order_status','goods_list_time','goods_delist_time','order_pay_time']]"
   ]
  },
  {
   "cell_type": "code",
   "execution_count": 10,
   "metadata": {},
   "outputs": [],
   "source": [
    "#customer_gender应该很有用，但是其缺失值达到了72%，删除；或者构建两个模型，带有customer_gender和不带有customer_gender的\n",
    "del train_data['customer_gender']"
   ]
  },
  {
   "cell_type": "raw",
   "metadata": {},
   "source": [
    "train_data = reduce_mem_usage(train_data, floattoint = True)"
   ]
  },
  {
   "cell_type": "code",
   "execution_count": 11,
   "metadata": {},
   "outputs": [
    {
     "data": {
      "text/plain": [
       "2306871"
      ]
     },
     "execution_count": 11,
     "metadata": {},
     "output_type": "execute_result"
    }
   ],
   "source": [
    "len(train_data)"
   ]
  },
  {
   "cell_type": "code",
   "execution_count": 12,
   "metadata": {},
   "outputs": [],
   "source": [
    "#2013年2月是春节，购物狂欢，数据必异常。所以不使用2012-2之前的数据。这里我们可以留个悬念，用两种数据（包含春节和不包含春节的数据）做个对比。\n",
    "train_data = train_data[train_data['order_pay_time'] >='2013-02-01 00:00:00']"
   ]
  },
  {
   "cell_type": "code",
   "execution_count": 13,
   "metadata": {},
   "outputs": [
    {
     "data": {
      "text/plain": [
       "940655"
      ]
     },
     "execution_count": 13,
     "metadata": {},
     "output_type": "execute_result"
    }
   ],
   "source": [
    "len(train_data)"
   ]
  },
  {
   "cell_type": "code",
   "execution_count": 14,
   "metadata": {},
   "outputs": [],
   "source": [
    "#修改data时间格式至具体哪一天，小时分钟秒就忽略了。\n",
    "train_data['date'] = pd.DatetimeIndex(train_data['order_pay_time']).date\n",
    "del train_data['order_pay_time']"
   ]
  },
  {
   "cell_type": "code",
   "execution_count": 15,
   "metadata": {},
   "outputs": [],
   "source": [
    "#不花钱的是客户吗？删除没有花钱的数据\n",
    "train_data.drop(index =train_data[train_data['order_status'] == 0].index, axis=0, inplace = True )\n",
    "del train_data['order_status']"
   ]
  },
  {
   "cell_type": "code",
   "execution_count": 16,
   "metadata": {},
   "outputs": [],
   "source": [
    "#每个客户，统计每一天该客户的购买总金额，购买总数量，评价总数量，\n",
    "df_payment = train_data.groupby(['date','customer_id']).agg({'order_detail_payment': ['sum']})\n",
    "df_payment.columns = ['day_total_payment']\n",
    "df_payment.reset_index(inplace=True)\n",
    "df_payment = df_payment.set_index(\n",
    "    [\"customer_id\", \"date\"])[[\"day_total_payment\"]].unstack(level=-1).fillna(0)\n",
    "df_payment.columns = df_payment.columns.get_level_values(1)"
   ]
  },
  {
   "cell_type": "code",
   "execution_count": 17,
   "metadata": {},
   "outputs": [],
   "source": [
    "df_goods = train_data.groupby(['date','customer_id']).agg({'order_detail_goods_num': ['sum']})\n",
    "df_goods.columns = ['day_total_goods_num']\n",
    "df_goods.reset_index(inplace=True)\n",
    "df_goods = df_goods.set_index(\n",
    "    [\"customer_id\", \"date\"])[[\"day_total_goods_num\"]].unstack(level=-1).fillna(0)\n",
    "df_goods.columns = df_goods.columns.get_level_values(1)"
   ]
  },
  {
   "cell_type": "code",
   "execution_count": null,
   "metadata": {},
   "outputs": [],
   "source": []
  },
  {
   "cell_type": "raw",
   "metadata": {},
   "source": [
    "df_rates = train_data.groupby(['date','customer_id']).agg({'is_customer_rate': ['sum']})\n",
    "df_rates.columns = ['day_total_rate_num']\n",
    "df_rates.reset_index(inplace=True)\n",
    "df_rates = df_rates.set_index(\n",
    "    [\"customer_id\", \"date\"])[[\"day_total_rate_num\"]].unstack(level=-1).fillna(0)\n",
    "df_rates.columns = df_rates.columns.get_level_values(1)"
   ]
  },
  {
   "cell_type": "code",
   "execution_count": 18,
   "metadata": {},
   "outputs": [],
   "source": [
    "def get_timespan(df, dt, minus, periods, freq='D'):\n",
    "    return df[pd.date_range(dt - timedelta(days=minus), periods=periods, freq=freq)]"
   ]
  },
  {
   "cell_type": "raw",
   "metadata": {},
   "source": [
    "'''\n",
    "    print('Preparing rate feature...')\n",
    "    for i in day_ranges:\n",
    "        tmp = get_timespan(df_rates, t2018, i, i)\n",
    "\n",
    "        X['rates_mean_%s' % i] = tmp.mean(axis=1).values\n",
    "\n",
    "        X['rates_max_%s' % i] = tmp.max(axis=1).values\n",
    "\n",
    "        X['rates_sum_%s' % i] = tmp.sum(axis=1).values\n",
    "    for i in day_ranges:    \n",
    "        tmp = get_timespan(df_rates, t2018 + timedelta(weeks=-1), i, i)\n",
    "\n",
    "        X['rates_mean_%s_2' % i] = tmp.mean(axis=1).values\n",
    "\n",
    "        X['rates_max_%s_2' % i] = tmp.max(axis=1).values\n",
    "        X['rates_sum_%s_2' % i] = tmp.sum(axis=1).values\n",
    "    for i in day_ranges:    \n",
    "        tmp = get_timespan(df_rates, t2018, i, i)\n",
    "        X['rates_has_sales_days_in_last_%s' % i] = (tmp > 0).sum(axis=1).values\n",
    "        X['rates_last_has_sales_day_in_last_%s' % i] = i - ((tmp > 0) * np.arange(i)).max(axis=1).values\n",
    "        X['rates_first_has_sales_day_in_last_%s' % i] = ((tmp > 0) * np.arange(i, 0, -1)).max(axis=1).values\n",
    "\n",
    "\n",
    "    # 对此处进行微调，主要考虑近期因素\n",
    "    for i in range(1, 4):\n",
    "        X['rates_day_%s_2018' % i] = get_timespan(df_rates, t2018, i*28, 28).sum(axis=1).values\n",
    "\n",
    "'''"
   ]
  },
  {
   "cell_type": "code",
   "execution_count": 19,
   "metadata": {},
   "outputs": [],
   "source": [
    "def prepare_dataset(df_payment, df_goods,t2018, is_train=True):\n",
    "    day_ranges = [14,30,60,91]\n",
    "    day_ranges_s = [21,49,84]\n",
    "    #day_ranges = [7, 14,30,60,91]\n",
    "    X = {}\n",
    "    # 整合用户id\n",
    "    tmp = df_payment.reset_index()\n",
    "    X['customer_id'] = tmp['customer_id']\n",
    "    # 消费特征\n",
    "    print('Preparing payment feature...')\n",
    "    for i in day_ranges:\n",
    "        tmp = get_timespan(df_payment, t2018, i, i)\n",
    "        \n",
    "        X['mean_%s_decay' % i] = (tmp * np.power(0.9, np.arange(i)[::-1])).sum(axis=1).values\n",
    "        \n",
    "        X['max_%s' % i] = tmp.max(axis=1).values\n",
    "        \n",
    "        X['sum_%s' % i] = tmp.sum(axis=1).values\n",
    "    for i in day_ranges:\n",
    "        tmp = get_timespan(df_payment, t2018 + timedelta(days=-7), i, i)\n",
    "        X['mean_%s_decay_2' % i] = (tmp * np.power(0.9, np.arange(i)[::-1])).sum(axis=1).values\n",
    "       \n",
    "        X['max_%s_2' % i] = tmp.max(axis=1).values\n",
    "        \n",
    "    for i in day_ranges:\n",
    "        tmp = get_timespan(df_payment, t2018, i, i)\n",
    "        X['has_sales_days_in_last_%s' % i] = (tmp != 0).sum(axis=1).values\n",
    "        X['last_has_sales_day_in_last_%s' % i] = i - ((tmp != 0) * np.arange(i)).max(axis=1).values\n",
    "        X['first_has_sales_day_in_last_%s' % i] = ((tmp != 0) * np.arange(i, 0, -1)).max(axis=1).values\n",
    "\n",
    "    # 对此处进行微调，主要考虑近期因素\n",
    "    for i in range(1, 4):\n",
    "        X['day_%s_2018' % i] = get_timespan(df_payment, t2018, i*30, 30).sum(axis=1).values\n",
    "  \n",
    "    print('Preparing num feature...')\n",
    "    for i in day_ranges_s:\n",
    "        tmp = get_timespan(df_goods, t2018, i, i)\n",
    "            \n",
    "        X['goods_mean_%s' % i] = tmp.mean(axis=1).values\n",
    "            \n",
    "        X['goods_max_%s' % i] = tmp.max(axis=1).values\n",
    "            \n",
    "        X['goods_sum_%s' % i] = tmp.sum(axis=1).values\n",
    "    for i in day_ranges_s:    \n",
    "        tmp = get_timespan(df_goods, t2018 + timedelta(weeks=-1), i, i)\n",
    "\n",
    "        X['goods_mean_%s_2' % i] = tmp.mean(axis=1).values\n",
    "\n",
    "        X['goods_max_%s_2' % i] = tmp.max(axis=1).values\n",
    "        X['goods_sum_%s_2' % i] = tmp.sum(axis=1).values\n",
    "    for i in day_ranges_s:    \n",
    "        tmp = get_timespan(df_goods, t2018, i, i)\n",
    "        X['goods_has_sales_days_in_last_%s' % i] = (tmp > 0).sum(axis=1).values\n",
    "        X['goods_last_has_sales_day_in_last_%s' % i] = i - ((tmp > 0) * np.arange(i)).max(axis=1).values\n",
    "        X['goods_first_has_sales_day_in_last_%s' % i] = ((tmp > 0) * np.arange(i, 0, -1)).max(axis=1).values\n",
    "\n",
    "\n",
    "    # 对此处进行微调，主要考虑近期因素\n",
    "    for i in range(1, 4):\n",
    "        X['goods_day_%s_2018' % i] = get_timespan(df_goods, t2018, i*28, 28).sum(axis=1).values\n",
    "\n",
    "\n",
    "    X = pd.DataFrame(X)\n",
    "    \n",
    "    reduce_mem_usage(X)\n",
    "    \n",
    "    if is_train:\n",
    "        # 这样转换之后，打标签直接用numpy切片就可以了\n",
    "        # 当然这里前提是确认付款总额没有负数的问题\n",
    "        X['label'] = df_goods[pd.date_range(t2018, periods=30)].max(axis=1).values\n",
    "        X['label'][X['label'] > 0] = 1\n",
    "        return X\n",
    "    return X"
   ]
  },
  {
   "cell_type": "code",
   "execution_count": 20,
   "metadata": {},
   "outputs": [
    {
     "name": "stderr",
     "output_type": "stream",
     "text": [
      "\r",
      "  0%|                                                                                            | 0/4 [00:00<?, ?it/s]"
     ]
    },
    {
     "name": "stdout",
     "output_type": "stream",
     "text": [
      "Preparing payment feature...\n",
      "Preparing num feature...\n",
      "Memory usage of the dataframe is : 344.4864196777344 MB\n",
      "___MEMORY USAGE AFTER COMPLETION:___\n",
      "Memory usage is:  73.07293701171875  MB\n",
      "This is  21.212138661395763 % of the initial size\n"
     ]
    },
    {
     "name": "stderr",
     "output_type": "stream",
     "text": [
      "\r",
      " 25%|████████████████████▊                                                              | 1/4 [02:00<06:01, 120.38s/it]"
     ]
    },
    {
     "name": "stdout",
     "output_type": "stream",
     "text": [
      "Preparing payment feature...\n",
      "Preparing num feature...\n",
      "Memory usage of the dataframe is : 344.4864196777344 MB\n",
      "___MEMORY USAGE AFTER COMPLETION:___\n",
      "Memory usage is:  73.07293701171875  MB\n",
      "This is  21.212138661395763 % of the initial size\n"
     ]
    },
    {
     "name": "stderr",
     "output_type": "stream",
     "text": [
      "\r",
      " 50%|█████████████████████████████████████████▌                                         | 2/4 [03:54<03:57, 118.57s/it]"
     ]
    },
    {
     "name": "stdout",
     "output_type": "stream",
     "text": [
      "Preparing payment feature...\n",
      "Preparing num feature...\n",
      "Memory usage of the dataframe is : 344.4864196777344 MB\n",
      "___MEMORY USAGE AFTER COMPLETION:___\n",
      "Memory usage is:  73.07293701171875  MB\n",
      "This is  21.212138661395763 % of the initial size\n"
     ]
    },
    {
     "name": "stderr",
     "output_type": "stream",
     "text": [
      "\r",
      " 75%|██████████████████████████████████████████████████████████████▎                    | 3/4 [06:09<02:03, 123.39s/it]"
     ]
    },
    {
     "name": "stdout",
     "output_type": "stream",
     "text": [
      "Preparing payment feature...\n",
      "Preparing num feature...\n",
      "Memory usage of the dataframe is : 344.4864196777344 MB\n",
      "___MEMORY USAGE AFTER COMPLETION:___\n",
      "Memory usage is:  73.72537326812744  MB\n",
      "This is  21.40153255884433 % of the initial size\n"
     ]
    },
    {
     "name": "stderr",
     "output_type": "stream",
     "text": [
      "100%|███████████████████████████████████████████████████████████████████████████████████| 4/4 [08:24<00:00, 126.20s/it]\n"
     ]
    }
   ],
   "source": [
    "num_days = 4\n",
    "t2017 = date(2013, 7, 1)\n",
    "X_l, y_l = [], []\n",
    "for i in tqdm(range(num_days)):\n",
    "    delta = timedelta(days=7 * i)\n",
    "    \n",
    "    X_tmp = prepare_dataset(df_payment, df_goods,t2017 + delta)\n",
    "    \n",
    "    X_tmp = pd.concat([X_tmp], axis=1)\n",
    "\n",
    "    X_l.append(X_tmp)\n",
    "    \n",
    "X_train = pd.concat(X_l, axis=0)\n",
    "del X_l, y_l"
   ]
  },
  {
   "cell_type": "code",
   "execution_count": 54,
   "metadata": {},
   "outputs": [
    {
     "name": "stderr",
     "output_type": "stream",
     "text": [
      "\r",
      "  0%|                                                                                            | 0/4 [00:00<?, ?it/s]"
     ]
    },
    {
     "name": "stdout",
     "output_type": "stream",
     "text": [
      "Preparing payment feature...\n",
      "Preparing num feature...\n",
      "Memory usage of the dataframe is : 307.95003509521484 MB\n",
      "___MEMORY USAGE AFTER COMPLETION:___\n",
      "Memory usage is:  73.07298278808594  MB\n",
      "This is  23.728843792952503 % of the initial size\n"
     ]
    },
    {
     "name": "stderr",
     "output_type": "stream",
     "text": [
      "\r",
      " 25%|█████████████████████                                                               | 1/4 [00:33<01:40, 33.65s/it]"
     ]
    },
    {
     "name": "stdout",
     "output_type": "stream",
     "text": [
      "Preparing payment feature...\n",
      "Preparing num feature...\n",
      "Memory usage of the dataframe is : 307.95003509521484 MB\n",
      "___MEMORY USAGE AFTER COMPLETION:___\n",
      "Memory usage is:  73.07298278808594  MB\n",
      "This is  23.728843792952503 % of the initial size\n"
     ]
    },
    {
     "name": "stderr",
     "output_type": "stream",
     "text": [
      "\r",
      " 50%|██████████████████████████████████████████                                          | 2/4 [01:06<01:07, 33.55s/it]"
     ]
    },
    {
     "name": "stdout",
     "output_type": "stream",
     "text": [
      "Preparing payment feature...\n",
      "Preparing num feature...\n",
      "Memory usage of the dataframe is : 307.95003509521484 MB\n",
      "___MEMORY USAGE AFTER COMPLETION:___\n",
      "Memory usage is:  73.07298278808594  MB\n",
      "This is  23.728843792952503 % of the initial size\n"
     ]
    },
    {
     "name": "stderr",
     "output_type": "stream",
     "text": [
      "\r",
      " 75%|███████████████████████████████████████████████████████████████                     | 3/4 [01:40<00:33, 33.49s/it]"
     ]
    },
    {
     "name": "stdout",
     "output_type": "stream",
     "text": [
      "Preparing payment feature...\n",
      "Preparing num feature...\n",
      "Memory usage of the dataframe is : 307.95003509521484 MB\n",
      "___MEMORY USAGE AFTER COMPLETION:___\n",
      "Memory usage is:  73.72541904449463  MB\n",
      "This is  23.940708115749857 % of the initial size\n"
     ]
    },
    {
     "name": "stderr",
     "output_type": "stream",
     "text": [
      "100%|████████████████████████████████████████████████████████████████████████████████████| 4/4 [02:13<00:00, 33.44s/it]\n"
     ]
    }
   ],
   "source": [
    "num_days = 4\n",
    "t2017 = date(2013, 7, 1)\n",
    "X_l, y_l = [], []\n",
    "for i in tqdm(range(num_days)):\n",
    "    delta = timedelta(days=7 * i)\n",
    "    \n",
    "    X_tmp = prepare_dataset(df_payment, df_goods,t2017 + delta)\n",
    "    \n",
    "    X_tmp = pd.concat([X_tmp], axis=1)\n",
    "\n",
    "    X_l.append(X_tmp)\n",
    "    \n",
    "X_train = pd.concat(X_l, axis=0)\n",
    "del X_l, y_l"
   ]
  },
  {
   "cell_type": "code",
   "execution_count": null,
   "metadata": {},
   "outputs": [
    {
     "name": "stderr",
     "output_type": "stream",
     "text": [
      "\r",
      "  0%|                                                                                            | 0/4 [00:00<?, ?it/s]"
     ]
    },
    {
     "name": "stdout",
     "output_type": "stream",
     "text": [
      "Preparing payment feature...\n",
      "Preparing num feature...\n",
      "Memory usage of the dataframe is : 707.3564300537109 MB\n",
      "___MEMORY USAGE AFTER COMPLETION:___\n",
      "Memory usage is:  166.34874534606934  MB\n",
      "This is  23.516962351418528 % of the initial size\n"
     ]
    },
    {
     "name": "stderr",
     "output_type": "stream",
     "text": [
      "\r",
      " 25%|█████████████████████                                                               | 1/4 [01:06<03:18, 66.03s/it]"
     ]
    },
    {
     "name": "stdout",
     "output_type": "stream",
     "text": [
      "Preparing payment feature...\n",
      "Preparing num feature...\n",
      "Memory usage of the dataframe is : 707.3564300537109 MB\n",
      "___MEMORY USAGE AFTER COMPLETION:___\n",
      "Memory usage is:  161.85283660888672  MB\n",
      "This is  22.881369240765498 % of the initial size\n"
     ]
    },
    {
     "name": "stderr",
     "output_type": "stream",
     "text": [
      "\r",
      " 50%|██████████████████████████████████████████                                          | 2/4 [02:21<02:17, 68.92s/it]"
     ]
    },
    {
     "name": "stdout",
     "output_type": "stream",
     "text": [
      "Preparing payment feature...\n"
     ]
    }
   ],
   "source": [
    "num_days = 4\n",
    "t2017 = date(2013, 6, 1)\n",
    "X_l, y_l = [], []\n",
    "for i in tqdm(range(num_days)):\n",
    "    delta = timedelta(days=7 * i)\n",
    "    \n",
    "    X_tmp = prepare_dataset(df_payment, df_goods,t2017 + delta)\n",
    "    \n",
    "    X_tmp = pd.concat([X_tmp], axis=1)\n",
    "\n",
    "    X_l.append(X_tmp)\n",
    "    \n",
    "X_train = pd.concat(X_l, axis=0)\n",
    "del X_l, y_l"
   ]
  },
  {
   "cell_type": "code",
   "execution_count": 20,
   "metadata": {},
   "outputs": [
    {
     "data": {
      "text/plain": [
       "(6285736, 67)"
      ]
     },
     "execution_count": 20,
     "metadata": {},
     "output_type": "execute_result"
    }
   ],
   "source": [
    "X_train.shape"
   ]
  },
  {
   "cell_type": "code",
   "execution_count": 21,
   "metadata": {},
   "outputs": [
    {
     "name": "stdout",
     "output_type": "stream",
     "text": [
      "Preparing payment feature...\n",
      "Preparing num feature...\n",
      "Memory usage of the dataframe is : 344.4864196777344 MB\n",
      "___MEMORY USAGE AFTER COMPLETION:___\n",
      "Memory usage is:  73.72537326812744  MB\n",
      "This is  21.40153255884433 % of the initial size\n"
     ]
    }
   ],
   "source": [
    "X_test = prepare_dataset(df_payment, df_goods, date(2013, 9, 1), is_train=False)\n",
    "X_test = pd.concat([X_test], axis=1)"
   ]
  },
  {
   "cell_type": "code",
   "execution_count": 22,
   "metadata": {},
   "outputs": [],
   "source": [
    "X_train.to_csv('C:/ml_data/bd_buyornot/train_data_eda_1.csv')"
   ]
  },
  {
   "cell_type": "code",
   "execution_count": 23,
   "metadata": {},
   "outputs": [],
   "source": [
    "X_test.to_csv('C:/ml_data/bd_buyornot/test_data_eda_1.csv')"
   ]
  },
  {
   "cell_type": "code",
   "execution_count": null,
   "metadata": {},
   "outputs": [],
   "source": []
  }
 ],
 "metadata": {
  "kernelspec": {
   "display_name": "Python 3",
   "language": "python",
   "name": "python3"
  },
  "language_info": {
   "codemirror_mode": {
    "name": "ipython",
    "version": 3
   },
   "file_extension": ".py",
   "mimetype": "text/x-python",
   "name": "python",
   "nbconvert_exporter": "python",
   "pygments_lexer": "ipython3",
   "version": "3.7.0"
  }
 },
 "nbformat": 4,
 "nbformat_minor": 2
}
