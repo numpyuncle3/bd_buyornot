{
 "cells": [
  {
   "cell_type": "code",
   "execution_count": 1,
   "metadata": {
    "uuid": "ab8eccc4-e109-4abb-98f7-55597e456dcf"
   },
   "outputs": [
    {
     "name": "stdout",
     "output_type": "stream",
     "text": [
      "Looking in indexes: http://yum.tbsite.net/pypi/simple/\n",
      "Requirement already satisfied: imbalanced-learn in /data/nas/workspace/envs/python3.6/site-packages (0.7.0)\n",
      "Requirement already satisfied: joblib>=0.11 in /data/nas/workspace/envs/python3.6/site-packages (from imbalanced-learn) (0.17.0)\n",
      "Requirement already satisfied: scikit-learn>=0.23 in /data/nas/workspace/envs/python3.6/site-packages (from imbalanced-learn) (0.23.2)\n",
      "Requirement already satisfied: scipy>=0.19.1 in /opt/conda/lib/python3.6/site-packages (from imbalanced-learn) (1.3.3)\n",
      "Requirement already satisfied: numpy>=1.13.3 in /opt/conda/lib/python3.6/site-packages (from imbalanced-learn) (1.16.0)\n",
      "Requirement already satisfied: threadpoolctl>=2.0.0 in /data/nas/workspace/envs/python3.6/site-packages (from scikit-learn>=0.23->imbalanced-learn) (2.1.0)\n",
      "\u001b[33mWARNING: You are using pip version 19.3.1; however, version 20.2.4 is available.\n",
      "You should consider upgrading via the 'pip install --upgrade pip' command.\u001b[0m\n"
     ]
    }
   ],
   "source": [
    "!pip install --user imbalanced-learn"
   ]
  },
  {
   "cell_type": "code",
   "execution_count": 4,
   "metadata": {
    "uuid": "a2292b13-b444-43a0-a757-8b031c30e7aa"
   },
   "outputs": [],
   "source": [
    "import pandas as pd\n",
    "import numpy as np\n"
   ]
  },
  {
   "cell_type": "code",
   "execution_count": 5,
   "metadata": {
    "uuid": "bc64df68-932f-44e0-bd4c-d5388fb84e1f"
   },
   "outputs": [],
   "source": [
    "train_data = pd.read_csv('data/bd/train_data_eda_1.csv')\n",
    "train_data.fillna(0,inplace = True)\n",
    "test_data = pd.read_csv('data/bd/test_data_eda_1.csv')\n",
    "del train_data['Unnamed: 0']\n",
    "del train_data['customer_id']\n",
    "del test_data['Unnamed: 0']\n",
    "del test_data['customer_id']"
   ]
  },
  {
   "cell_type": "code",
   "execution_count": 8,
   "metadata": {
    "uuid": "fb491dad-f8a8-4f4a-b23c-ceb858d67e44"
   },
   "outputs": [],
   "source": [
    "train_y = train_data['label']\n",
    "train_x = train_data.drop('label',axis = 1,inplace = False)"
   ]
  },
  {
   "cell_type": "code",
   "execution_count": 2,
   "metadata": {
    "uuid": "5b99f7ab-f7b9-4525-a33d-e52b84e7eb07"
   },
   "outputs": [],
   "source": [
    "from imblearn.over_sampling import SMOTE"
   ]
  },
  {
   "cell_type": "code",
   "execution_count": 9,
   "metadata": {
    "uuid": "939df30a-4305-446f-b56f-fffff9f28144"
   },
   "outputs": [],
   "source": [
    "smote = SMOTE() # 建立SMOTE模型对象\n",
    "\n",
    "X_new, Y_new = smote.fit_sample(train_x, train_y) # 输入数据并作过采样处理"
   ]
  },
  {
   "cell_type": "code",
   "execution_count": null,
   "metadata": {
    "uuid": "a7c48433-337f-4368-b52c-83c3c2d9119a"
   },
   "outputs": [],
   "source": []
  }
 ],
 "metadata": {
  "kernelspec": {
   "display_name": "Python 3",
   "language": "python",
   "name": "python3"
  },
  "language_info": {
   "codemirror_mode": {
    "name": "ipython",
    "version": 3
   },
   "file_extension": ".py",
   "mimetype": "text/x-python",
   "name": "python",
   "nbconvert_exporter": "python",
   "pygments_lexer": "ipython3",
   "version": "3.6.4"
  }
 },
 "nbformat": 4,
 "nbformat_minor": 2
}
